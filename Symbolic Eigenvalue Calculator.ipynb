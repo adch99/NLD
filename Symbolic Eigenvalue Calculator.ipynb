{
 "cells": [
  {
   "cell_type": "code",
   "execution_count": 30,
   "metadata": {},
   "outputs": [],
   "source": [
    "beta = var(\"beta\", latex_name=r\"\\beta\")"
   ]
  },
  {
   "cell_type": "code",
   "execution_count": 31,
   "metadata": {},
   "outputs": [],
   "source": [
    "J = matrix([[0, 16*sqrt(2)*(-1 + sqrt(2)*beta)*(-2 + sqrt(2)*beta)], [-1/(16*sqrt(2)), 0]])"
   ]
  },
  {
   "cell_type": "code",
   "execution_count": 39,
   "metadata": {},
   "outputs": [],
   "source": [
    "eig = J.eigenvectors_right()"
   ]
  },
  {
   "cell_type": "code",
   "execution_count": 41,
   "metadata": {},
   "outputs": [
    {
     "data": {
      "text/plain": [
       "\\left[\\left(-\\sqrt{-2 \\, {\\beta}^{2} + 3 \\, \\sqrt{2} {\\beta} - 2}, \\left[\\left(1,\\,-\\frac{\\sqrt{2} \\sqrt{-2 \\, {\\beta}^{2} + 3 \\, \\sqrt{2} {\\beta} - 2}}{32 \\, {\\left(2 \\, {\\beta}^{2} - 3 \\, \\sqrt{2} {\\beta} + 2\\right)}}\\right)\\right], 1\\right), \\left(\\sqrt{-2 \\, {\\beta}^{2} + 3 \\, \\sqrt{2} {\\beta} - 2}, \\left[\\left(1,\\,\\frac{\\sqrt{2} \\sqrt{-2 \\, {\\beta}^{2} + 3 \\, \\sqrt{2} {\\beta} - 2}}{32 \\, {\\left(2 \\, {\\beta}^{2} - 3 \\, \\sqrt{2} {\\beta} + 2\\right)}}\\right)\\right], 1\\right)\\right]"
      ]
     },
     "execution_count": 41,
     "metadata": {},
     "output_type": "execute_result"
    }
   ],
   "source": [
    "latex(eig)"
   ]
  },
  {
   "cell_type": "markdown",
   "metadata": {},
   "source": [
    "$\\left[\\left(-\\sqrt{-2 \\, {\\beta}^{2} + 3 \\, \\sqrt{2} {\\beta} - 2}, \\left[\\left(1,\\,-\\frac{\\sqrt{2} \\sqrt{-2 \\, {\\beta}^{2} + 3 \\, \\sqrt{2} {\\beta} - 2}}{32 \\, {\\left(2 \\, {\\beta}^{2} - 3 \\, \\sqrt{2} {\\beta} + 2\\right)}}\\right)\\right], 1\\right), \\left(\\sqrt{-2 \\, {\\beta}^{2} + 3 \\, \\sqrt{2} {\\beta} - 2}, \\left[\\left(1,\\,\\frac{\\sqrt{2} \\sqrt{-2 \\, {\\beta}^{2} + 3 \\, \\sqrt{2} {\\beta} - 2}}{32 \\, {\\left(2 \\, {\\beta}^{2} - 3 \\, \\sqrt{2} {\\beta} + 2\\right)}}\\right)\\right], 1\\right)\\right] $\n",
    "\n",
    "In the form (eigenval, eigenvec, multiplicity)"
   ]
  }
 ],
 "metadata": {
  "kernelspec": {
   "display_name": "SageMath 9.0",
   "language": "sage",
   "name": "sagemath"
  },
  "language_info": {
   "codemirror_mode": {
    "name": "ipython",
    "version": 3
   },
   "file_extension": ".py",
   "mimetype": "text/x-python",
   "name": "python",
   "nbconvert_exporter": "python",
   "pygments_lexer": "ipython3",
   "version": "3.7.3"
  }
 },
 "nbformat": 4,
 "nbformat_minor": 2
}
