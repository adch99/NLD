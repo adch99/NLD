{
 "cells": [
  {
   "cell_type": "code",
   "execution_count": 1,
   "metadata": {
    "collapsed": false
   },
   "outputs": [
   ],
   "source": [
    "E.<x,y> = EuclideanSpace()"
   ]
  },
  {
   "cell_type": "code",
   "execution_count": 3,
   "metadata": {
    "collapsed": false
   },
   "outputs": [
   ],
   "source": [
    "a = var('a')\n",
    "b = var('b')\n",
    "\n",
    "xdot = y + a*x*(1 - 2*b - x^2 - y^2)\n",
    "ydot = -x + a*y*(1 - x^2 - y^2)\n",
    "V = E.vector_field(xdot, ydot, name=\"V\")"
   ]
  },
  {
   "cell_type": "code",
   "execution_count": 4,
   "metadata": {
    "collapsed": false
   },
   "outputs": [
    {
     "data": {
      "text/html": [
       "<html><script type=\"math/tex; mode=display\">\\newcommand{\\Bold}[1]{\\mathbf{#1}}V = \\left( -{\\left(x^{2} + y^{2} + 2 \\, b - 1\\right)} a x + y \\right) e_{ x } + \\left( -{\\left(x^{2} + y^{2} - 1\\right)} a y - x \\right) e_{ y }</script></html>"
      ],
      "text/plain": [
       "V = (-(x^2 + y^2 + 2*b - 1)*a*x + y) e_x + (-(x^2 + y^2 - 1)*a*y - x) e_y"
      ]
     },
     "execution_count": 4,
     "metadata": {
     },
     "output_type": "execute_result"
    }
   ],
   "source": [
    "show(V.display())"
   ]
  },
  {
   "cell_type": "code",
   "execution_count": 5,
   "metadata": {
    "collapsed": false
   },
   "outputs": [
    {
     "data": {
      "text/plain": [
       "Chart (E^2, (r, ph))"
      ]
     },
     "execution_count": 5,
     "metadata": {
     },
     "output_type": "execute_result"
    }
   ],
   "source": [
    "polar.<r, ph> = E.polar_coordinates()\n",
    "polar"
   ]
  },
  {
   "cell_type": "code",
   "execution_count": 6,
   "metadata": {
    "collapsed": false
   },
   "outputs": [
   ],
   "source": [
    "polar_frame = E.polar_frame()"
   ]
  },
  {
   "cell_type": "code",
   "execution_count": 7,
   "metadata": {
    "collapsed": false
   },
   "outputs": [
    {
     "data": {
      "text/plain": [
       "[Coordinate frame (E^2, (e_x,e_y)),\n",
       " Coordinate frame (E^2, (d/dr,d/dph)),\n",
       " Vector frame (E^2, (e_r,e_ph))]"
      ]
     },
     "execution_count": 7,
     "metadata": {
     },
     "output_type": "execute_result"
    }
   ],
   "source": [
    "E.frames()"
   ]
  },
  {
   "cell_type": "code",
   "execution_count": 8,
   "metadata": {
    "collapsed": false
   },
   "outputs": [
    {
     "data": {
      "text/html": [
       "<html><script type=\"math/tex; mode=display\">\\newcommand{\\Bold}[1]{\\mathbf{#1}}V = \\left( -a r^{3} - {\\left(2 \\, a b \\cos\\left({\\phi}\\right)^{2} - a\\right)} r \\right) e_{ r } + {\\left(2 \\, a b \\cos\\left({\\phi}\\right) \\sin\\left({\\phi}\\right) - 1\\right)} r e_{ {\\phi} }</script></html>"
      ],
      "text/plain": [
       "V = (-a*r^3 - (2*a*b*cos(ph)^2 - a)*r) e_r + (2*a*b*cos(ph)*sin(ph) - 1)*r e_ph"
      ]
     },
     "execution_count": 8,
     "metadata": {
     },
     "output_type": "execute_result"
    }
   ],
   "source": [
    "show(V.display(polar_frame, polar))"
   ]
  },
  {
   "cell_type": "markdown",
   "metadata": {
    "collapsed": false
   },
   "source": [
    "Make sure to ignore the $r$ in the $re_\\phi$ part. This exists as part of the unit vector and is not part of $\\dot{\\phi}$."
   ]
  }
 ],
 "metadata": {
  "kernelspec": {
   "display_name": "SageMath 9.1",
   "language": "sagemath",
   "metadata": {
    "cocalc": {
     "description": "Open-source mathematical software system",
     "priority": 10,
     "url": "https://www.sagemath.org/"
    }
   },
   "name": "sage-9.1"
  },
  "language_info": {
   "codemirror_mode": {
    "name": "ipython",
    "version": 3
   },
   "file_extension": ".py",
   "mimetype": "text/x-python",
   "name": "python",
   "nbconvert_exporter": "python",
   "pygments_lexer": "ipython3",
   "version": "3.7.3"
  }
 },
 "nbformat": 4,
 "nbformat_minor": 4
}